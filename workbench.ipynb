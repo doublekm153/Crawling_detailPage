{
 "cells": [
  {
   "cell_type": "code",
   "execution_count": 13,
   "metadata": {},
   "outputs": [
    {
     "ename": "ParserError",
     "evalue": "Expected 30 fields in line 4, saw 31",
     "output_type": "error",
     "traceback": [
      "\u001b[1;31m---------------------------------------------------------------------------\u001b[0m",
      "\u001b[1;31mParserError\u001b[0m                               Traceback (most recent call last)",
      "\u001b[1;32mc:\\Users\\doubl\\Desktop\\김경민\\2023\\Multicampus\\파이널\\crawling\\workbench.ipynb 셀 1\u001b[0m line \u001b[0;36m5\n\u001b[0;32m      <a href='vscode-notebook-cell:/c%3A/Users/doubl/Desktop/%EA%B9%80%EA%B2%BD%EB%AF%BC/2023/Multicampus/%ED%8C%8C%EC%9D%B4%EB%84%90/crawling/workbench.ipynb#W0sZmlsZQ%3D%3D?line=1'>2</a>\u001b[0m \u001b[39mimport\u001b[39;00m \u001b[39mnumpy\u001b[39;00m \u001b[39mas\u001b[39;00m \u001b[39mnp\u001b[39;00m\n\u001b[0;32m      <a href='vscode-notebook-cell:/c%3A/Users/doubl/Desktop/%EA%B9%80%EA%B2%BD%EB%AF%BC/2023/Multicampus/%ED%8C%8C%EC%9D%B4%EB%84%90/crawling/workbench.ipynb#W0sZmlsZQ%3D%3D?line=3'>4</a>\u001b[0m \u001b[39m# 파일 불러오기\u001b[39;00m\n\u001b[1;32m----> <a href='vscode-notebook-cell:/c%3A/Users/doubl/Desktop/%EA%B9%80%EA%B2%BD%EB%AF%BC/2023/Multicampus/%ED%8C%8C%EC%9D%B4%EB%84%90/crawling/workbench.ipynb#W0sZmlsZQ%3D%3D?line=4'>5</a>\u001b[0m df \u001b[39m=\u001b[39m pd\u001b[39m.\u001b[39;49mread_csv(\u001b[39mr\u001b[39;49m\u001b[39m'\u001b[39;49m\u001b[39mC:\u001b[39;49m\u001b[39m\\\\\u001b[39;49;00m\u001b[39mUsers\u001b[39;49m\u001b[39m\\\\\u001b[39;49;00m\u001b[39mdoubl\u001b[39;49m\u001b[39m\\\\\u001b[39;49;00m\u001b[39mDesktop\u001b[39;49m\u001b[39m\\\\\u001b[39;49;00m\u001b[39m김경민\u001b[39;49m\u001b[39m\\\\\u001b[39;49;00m\u001b[39m2023\u001b[39;49m\u001b[39m\\\\\u001b[39;49;00m\u001b[39mMulticampus\u001b[39;49m\u001b[39m\\\\\u001b[39;49;00m\u001b[39m파이널\u001b[39;49m\u001b[39m\\\\\u001b[39;49;00m\u001b[39mtest\u001b[39;49m\u001b[39m\\\\\u001b[39;49;00m\u001b[39mdata_detail_ori.csv\u001b[39;49m\u001b[39m'\u001b[39;49m, engine\u001b[39m=\u001b[39;49m\u001b[39m'\u001b[39;49m\u001b[39mpython\u001b[39;49m\u001b[39m'\u001b[39;49m)\n\u001b[0;32m      <a href='vscode-notebook-cell:/c%3A/Users/doubl/Desktop/%EA%B9%80%EA%B2%BD%EB%AF%BC/2023/Multicampus/%ED%8C%8C%EC%9D%B4%EB%84%90/crawling/workbench.ipynb#W0sZmlsZQ%3D%3D?line=5'>6</a>\u001b[0m \u001b[39m# 데이터 프레임의 행과 열 바꾸기\u001b[39;00m\n\u001b[0;32m      <a href='vscode-notebook-cell:/c%3A/Users/doubl/Desktop/%EA%B9%80%EA%B2%BD%EB%AF%BC/2023/Multicampus/%ED%8C%8C%EC%9D%B4%EB%84%90/crawling/workbench.ipynb#W0sZmlsZQ%3D%3D?line=6'>7</a>\u001b[0m df_transposed \u001b[39m=\u001b[39m df\u001b[39m.\u001b[39mtranspose()\n",
      "File \u001b[1;32mc:\\Users\\doubl\\anaconda3\\envs\\multi\\lib\\site-packages\\pandas\\io\\parsers\\readers.py:912\u001b[0m, in \u001b[0;36mread_csv\u001b[1;34m(filepath_or_buffer, sep, delimiter, header, names, index_col, usecols, dtype, engine, converters, true_values, false_values, skipinitialspace, skiprows, skipfooter, nrows, na_values, keep_default_na, na_filter, verbose, skip_blank_lines, parse_dates, infer_datetime_format, keep_date_col, date_parser, date_format, dayfirst, cache_dates, iterator, chunksize, compression, thousands, decimal, lineterminator, quotechar, quoting, doublequote, escapechar, comment, encoding, encoding_errors, dialect, on_bad_lines, delim_whitespace, low_memory, memory_map, float_precision, storage_options, dtype_backend)\u001b[0m\n\u001b[0;32m    899\u001b[0m kwds_defaults \u001b[39m=\u001b[39m _refine_defaults_read(\n\u001b[0;32m    900\u001b[0m     dialect,\n\u001b[0;32m    901\u001b[0m     delimiter,\n\u001b[1;32m   (...)\u001b[0m\n\u001b[0;32m    908\u001b[0m     dtype_backend\u001b[39m=\u001b[39mdtype_backend,\n\u001b[0;32m    909\u001b[0m )\n\u001b[0;32m    910\u001b[0m kwds\u001b[39m.\u001b[39mupdate(kwds_defaults)\n\u001b[1;32m--> 912\u001b[0m \u001b[39mreturn\u001b[39;00m _read(filepath_or_buffer, kwds)\n",
      "File \u001b[1;32mc:\\Users\\doubl\\anaconda3\\envs\\multi\\lib\\site-packages\\pandas\\io\\parsers\\readers.py:583\u001b[0m, in \u001b[0;36m_read\u001b[1;34m(filepath_or_buffer, kwds)\u001b[0m\n\u001b[0;32m    580\u001b[0m     \u001b[39mreturn\u001b[39;00m parser\n\u001b[0;32m    582\u001b[0m \u001b[39mwith\u001b[39;00m parser:\n\u001b[1;32m--> 583\u001b[0m     \u001b[39mreturn\u001b[39;00m parser\u001b[39m.\u001b[39;49mread(nrows)\n",
      "File \u001b[1;32mc:\\Users\\doubl\\anaconda3\\envs\\multi\\lib\\site-packages\\pandas\\io\\parsers\\readers.py:1704\u001b[0m, in \u001b[0;36mTextFileReader.read\u001b[1;34m(self, nrows)\u001b[0m\n\u001b[0;32m   1697\u001b[0m nrows \u001b[39m=\u001b[39m validate_integer(\u001b[39m\"\u001b[39m\u001b[39mnrows\u001b[39m\u001b[39m\"\u001b[39m, nrows)\n\u001b[0;32m   1698\u001b[0m \u001b[39mtry\u001b[39;00m:\n\u001b[0;32m   1699\u001b[0m     \u001b[39m# error: \"ParserBase\" has no attribute \"read\"\u001b[39;00m\n\u001b[0;32m   1700\u001b[0m     (\n\u001b[0;32m   1701\u001b[0m         index,\n\u001b[0;32m   1702\u001b[0m         columns,\n\u001b[0;32m   1703\u001b[0m         col_dict,\n\u001b[1;32m-> 1704\u001b[0m     ) \u001b[39m=\u001b[39m \u001b[39mself\u001b[39;49m\u001b[39m.\u001b[39;49m_engine\u001b[39m.\u001b[39;49mread(  \u001b[39m# type: ignore[attr-defined]\u001b[39;49;00m\n\u001b[0;32m   1705\u001b[0m         nrows\n\u001b[0;32m   1706\u001b[0m     )\n\u001b[0;32m   1707\u001b[0m \u001b[39mexcept\u001b[39;00m \u001b[39mException\u001b[39;00m:\n\u001b[0;32m   1708\u001b[0m     \u001b[39mself\u001b[39m\u001b[39m.\u001b[39mclose()\n",
      "File \u001b[1;32mc:\\Users\\doubl\\anaconda3\\envs\\multi\\lib\\site-packages\\pandas\\io\\parsers\\python_parser.py:290\u001b[0m, in \u001b[0;36mPythonParser.read\u001b[1;34m(self, rows)\u001b[0m\n\u001b[0;32m    287\u001b[0m     indexnamerow \u001b[39m=\u001b[39m content[\u001b[39m0\u001b[39m]\n\u001b[0;32m    288\u001b[0m     content \u001b[39m=\u001b[39m content[\u001b[39m1\u001b[39m:]\n\u001b[1;32m--> 290\u001b[0m alldata \u001b[39m=\u001b[39m \u001b[39mself\u001b[39;49m\u001b[39m.\u001b[39;49m_rows_to_cols(content)\n\u001b[0;32m    291\u001b[0m data, columns \u001b[39m=\u001b[39m \u001b[39mself\u001b[39m\u001b[39m.\u001b[39m_exclude_implicit_index(alldata)\n\u001b[0;32m    293\u001b[0m conv_data \u001b[39m=\u001b[39m \u001b[39mself\u001b[39m\u001b[39m.\u001b[39m_convert_data(data)\n",
      "File \u001b[1;32mc:\\Users\\doubl\\anaconda3\\envs\\multi\\lib\\site-packages\\pandas\\io\\parsers\\python_parser.py:1053\u001b[0m, in \u001b[0;36mPythonParser._rows_to_cols\u001b[1;34m(self, content)\u001b[0m\n\u001b[0;32m   1047\u001b[0m             reason \u001b[39m=\u001b[39m (\n\u001b[0;32m   1048\u001b[0m                 \u001b[39m\"\u001b[39m\u001b[39mError could possibly be due to quotes being \u001b[39m\u001b[39m\"\u001b[39m\n\u001b[0;32m   1049\u001b[0m                 \u001b[39m\"\u001b[39m\u001b[39mignored when a multi-char delimiter is used.\u001b[39m\u001b[39m\"\u001b[39m\n\u001b[0;32m   1050\u001b[0m             )\n\u001b[0;32m   1051\u001b[0m             msg \u001b[39m+\u001b[39m\u001b[39m=\u001b[39m \u001b[39m\"\u001b[39m\u001b[39m. \u001b[39m\u001b[39m\"\u001b[39m \u001b[39m+\u001b[39m reason\n\u001b[1;32m-> 1053\u001b[0m         \u001b[39mself\u001b[39;49m\u001b[39m.\u001b[39;49m_alert_malformed(msg, row_num \u001b[39m+\u001b[39;49m \u001b[39m1\u001b[39;49m)\n\u001b[0;32m   1055\u001b[0m \u001b[39m# see gh-13320\u001b[39;00m\n\u001b[0;32m   1056\u001b[0m zipped_content \u001b[39m=\u001b[39m \u001b[39mlist\u001b[39m(lib\u001b[39m.\u001b[39mto_object_array(content, min_width\u001b[39m=\u001b[39mcol_len)\u001b[39m.\u001b[39mT)\n",
      "File \u001b[1;32mc:\\Users\\doubl\\anaconda3\\envs\\multi\\lib\\site-packages\\pandas\\io\\parsers\\python_parser.py:774\u001b[0m, in \u001b[0;36mPythonParser._alert_malformed\u001b[1;34m(self, msg, row_num)\u001b[0m\n\u001b[0;32m    757\u001b[0m \u001b[39m\u001b[39m\u001b[39m\"\"\"\u001b[39;00m\n\u001b[0;32m    758\u001b[0m \u001b[39mAlert a user about a malformed row, depending on value of\u001b[39;00m\n\u001b[0;32m    759\u001b[0m \u001b[39m`self.on_bad_lines` enum.\u001b[39;00m\n\u001b[1;32m   (...)\u001b[0m\n\u001b[0;32m    771\u001b[0m \u001b[39m    even though we 0-index internally.\u001b[39;00m\n\u001b[0;32m    772\u001b[0m \u001b[39m\"\"\"\u001b[39;00m\n\u001b[0;32m    773\u001b[0m \u001b[39mif\u001b[39;00m \u001b[39mself\u001b[39m\u001b[39m.\u001b[39mon_bad_lines \u001b[39m==\u001b[39m \u001b[39mself\u001b[39m\u001b[39m.\u001b[39mBadLineHandleMethod\u001b[39m.\u001b[39mERROR:\n\u001b[1;32m--> 774\u001b[0m     \u001b[39mraise\u001b[39;00m ParserError(msg)\n\u001b[0;32m    775\u001b[0m \u001b[39mif\u001b[39;00m \u001b[39mself\u001b[39m\u001b[39m.\u001b[39mon_bad_lines \u001b[39m==\u001b[39m \u001b[39mself\u001b[39m\u001b[39m.\u001b[39mBadLineHandleMethod\u001b[39m.\u001b[39mWARN:\n\u001b[0;32m    776\u001b[0m     base \u001b[39m=\u001b[39m \u001b[39mf\u001b[39m\u001b[39m\"\u001b[39m\u001b[39mSkipping line \u001b[39m\u001b[39m{\u001b[39;00mrow_num\u001b[39m}\u001b[39;00m\u001b[39m: \u001b[39m\u001b[39m\"\u001b[39m\n",
      "\u001b[1;31mParserError\u001b[0m: Expected 30 fields in line 4, saw 31"
     ]
    }
   ],
   "source": [
    "import pandas as pd\n",
    "import numpy as np\n",
    "\n",
    "# 파일 불러오기\n",
    "df = pd.read_csv(r'C:\\\\Users\\\\doubl\\\\Desktop\\\\김경민\\\\2023\\\\Multicampus\\\\파이널\\\\test\\\\data_detail_ori.csv', engine='python')\n",
    "# 데이터 프레임의 행과 열 바꾸기\n",
    "df_transposed = df.transpose()\n",
    "\n",
    "# 변경된 데이터 프레임을 csv 파일로 저장\n",
    "df_transposed.to_csv(r'C:\\\\Users\\\\doubl\\\\Desktop\\\\김경민\\\\2023\\\\Multicampus\\\\파이널\\\\test\\\\data_detail_fix.csv', index=False)"
   ]
  }
 ],
 "metadata": {
  "kernelspec": {
   "display_name": "multi",
   "language": "python",
   "name": "python3"
  },
  "language_info": {
   "codemirror_mode": {
    "name": "ipython",
    "version": 3
   },
   "file_extension": ".py",
   "mimetype": "text/x-python",
   "name": "python",
   "nbconvert_exporter": "python",
   "pygments_lexer": "ipython3",
   "version": "3.8.0"
  }
 },
 "nbformat": 4,
 "nbformat_minor": 2
}
