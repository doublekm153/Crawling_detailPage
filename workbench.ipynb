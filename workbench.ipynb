{
 "cells": [
  {
   "cell_type": "code",
   "execution_count": 14,
   "metadata": {},
   "outputs": [
    {
     "name": "stdout",
     "output_type": "stream",
     "text": [
      "Error parsing line, skipping...\n"
     ]
    }
   ],
   "source": [
    "import pandas as pd\n",
    "import numpy as np\n",
    "\n",
    "# 파일 불러오기\n",
    "try:\n",
    "    df = pd.read_csv(r'C:\\\\Users\\\\doubl\\\\Desktop\\\\김경민\\\\2023\\\\Multicampus\\\\파이널\\\\test\\\\data_detail_ori.csv', engine='python')\n",
    "except pd.errors.ParserError:\n",
    "    print(\"Error parsing line, skipping...\")\n",
    "    pass\n",
    "\n",
    "# 데이터 프레임의 행과 열 바꾸기\n",
    "df_transposed = df.transpose()\n",
    "\n",
    "# 변경된 데이터 프레임을 csv 파일로 저장\n",
    "df_transposed.to_csv(r'C:\\\\Users\\\\doubl\\\\Desktop\\\\김경민\\\\2023\\\\Multicampus\\\\파이널\\\\test\\\\data_detail_fix.csv', index=False)\n"
   ]
  }
 ],
 "metadata": {
  "kernelspec": {
   "display_name": "multi",
   "language": "python",
   "name": "python3"
  },
  "language_info": {
   "codemirror_mode": {
    "name": "ipython",
    "version": 3
   },
   "file_extension": ".py",
   "mimetype": "text/x-python",
   "name": "python",
   "nbconvert_exporter": "python",
   "pygments_lexer": "ipython3",
   "version": "3.8.0"
  }
 },
 "nbformat": 4,
 "nbformat_minor": 2
}
